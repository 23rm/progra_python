{
  "metadata": {
    "language_info": {
      "codemirror_mode": {
        "name": "python",
        "version": 3
      },
      "file_extension": ".py",
      "mimetype": "text/x-python",
      "name": "python",
      "nbconvert_exporter": "python",
      "pygments_lexer": "ipython3",
      "version": "3.8"
    },
    "kernelspec": {
      "name": "python",
      "display_name": "Python (Pyodide)",
      "language": "python"
    }
  },
  "nbformat_minor": 4,
  "nbformat": 4,
  "cells": [
    {
      "cell_type": "markdown",
      "source": "## Tipos de dato",
      "metadata": {}
    },
    {
      "cell_type": "markdown",
      "source": "Elabora el código en donde declares una variable para cada dato, asignándoles datos reales tuyos. Muestra el tipo de dato de cada una de las\nvariables que declares, y muestra el contenido de las variables.",
      "metadata": {}
    },
    {
      "cell_type": "code",
      "source": "# Declaración de variables\nmatricula=1953879\nnombre_completo=\"Patricio Roel Martínez Medina\"\nestatura=1.80\n\n# Muestra el tipo de las variables\nprint(type(matricula))\nprint(type(nombre_completo))\nprint(type(estatura))\n\n# Muestra el contenido de las variables\nprint(\"Matrícula: \", matricula)\nprint(\"Nombre completo: \", nombre_completo)\nprint(\"Estatura: \", estatura)",
      "metadata": {
        "trusted": true
      },
      "execution_count": 4,
      "outputs": [
        {
          "name": "stdout",
          "text": "<class 'int'>\n<class 'str'>\n<class 'float'>\nMatrícula:  1953879\nNombre completo:  Patricio Roel Martínez Medina\nEstatura:  1.8\n",
          "output_type": "stream"
        }
      ]
    },
    {
      "cell_type": "markdown",
      "source": "### conversión de datos",
      "metadata": {}
    },
    {
      "cell_type": "code",
      "source": "edad=\"20\"\nestatura=\"1.80\"\ndinero=None\n\nprint(\"Tipo de edad:\", type(edad))\nprint(\"Tipo de estatura:\",type(estatura))\nprint(\"Tipo de dinero:\", type(dinero))\n\nedad=int(edad)\nestatura=float(estatura)\ndinero=bool(dinero)\n\nprint(\"Tipo de edad:\", type(edad))\nprint(\"Tipo de estatura:\",type(estatura))\nprint(\"Tipo de dinero:\", type(dinero))",
      "metadata": {
        "trusted": true
      },
      "execution_count": 7,
      "outputs": [
        {
          "name": "stdout",
          "text": "Tipo de edad: <class 'str'>\nTipo de estatura: <class 'str'>\nTipo de dinero: <class 'NoneType'>\nTipo de edad: <class 'int'>\nTipo de estatura: <class 'float'>\nTipo de dinero: <class 'bool'>\n",
          "output_type": "stream"
        }
      ]
    },
    {
      "cell_type": "markdown",
      "source": "### Contando y recuperando caracteres",
      "metadata": {}
    },
    {
      "cell_type": "code",
      "source": "frase=\"Pienso, luego existo\"\n# Longitud de la cadena\nprint(len(frase))\n# Recuperar la posición 1.\nprint(frase[1])\n# Recuperar de la posición 0 a la 4 sin incluir la 4.\nprint(frase[0:4])\n# Recuperar todo, menos las tres posiciones del final.\nprint(frase[:-3])\n# Recuperar tres posiciciones, del final, hacia atrás.\nprint(frase[-3:])",
      "metadata": {
        "trusted": true
      },
      "execution_count": 8,
      "outputs": [
        {
          "name": "stdout",
          "text": "20\ni\nPien\nPienso, luego exi\nsto\n",
          "output_type": "stream"
        }
      ]
    },
    {
      "cell_type": "markdown",
      "source": "### Uso de in y not in",
      "metadata": {}
    },
    {
      "cell_type": "code",
      "source": "frase=\"Pienso, luego existo.\"\n# Evalúa si \"existo\" está en la frase.\nprint(\"existo\" in frase)\n# Evalúa si \"siento\" está en la frase.\nprint(\"siento\" in frase)\n# Evalúa si \"siento\" no está en la frase.\nprint(\"siento\" not in frase)",
      "metadata": {
        "trusted": true
      },
      "execution_count": 9,
      "outputs": [
        {
          "name": "stdout",
          "text": "True\nFalse\nTrue\n",
          "output_type": "stream"
        }
      ]
    }
  ]
}