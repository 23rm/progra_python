{
 "cells": [
  {
   "cell_type": "markdown",
   "id": "6be4248d-1b74-4628-8b49-bcd1b3f04d51",
   "metadata": {},
   "source": [
    "### Problema distancia"
   ]
  },
  {
   "cell_type": "markdown",
   "id": "7d4c242b-cf5f-4106-b44f-4fa9bcd76049",
   "metadata": {},
   "source": [
    "Tienes $600 pesos, y un coche que que viaja a una velocidad constante de de 50km/hora y tiene el tanque sin gasolina.\n",
    "\n",
    "¿Qué distancia recorrerás con ese dinero? ¿En cuánto tiempo recorrerás esa distancia?\n",
    "\n",
    "La distancia tiene que estar expresada en kilómetros, y el tiempo en minutos y segundos."
   ]
  },
  {
   "cell_type": "code",
   "execution_count": 6,
   "id": "22268fde-1f11-485a-9519-96248e8c9504",
   "metadata": {},
   "outputs": [],
   "source": [
    "dinero=600.00\n",
    "v=50.00"
   ]
  },
  {
   "cell_type": "code",
   "execution_count": 8,
   "id": "bf299a25-9627-4416-88cb-32848fe53c4b",
   "metadata": {},
   "outputs": [
    {
     "name": "stdin",
     "output_type": "stream",
     "text": [
      "Dame el precio por litro de gasolina:  30\n"
     ]
    }
   ],
   "source": [
    "while True:\n",
    "    _precio=input(\"Dame el precio por litro de gasolina: \")\n",
    "    if (_precio==''):\n",
    "        print(\"Entrada incorrecta. El precio no puede omitirse. Intenta de nuevo.\")\n",
    "        continue\n",
    "    try:\n",
    "        precio=float(_precio)\n",
    "    except:\n",
    "        print(\"Entrada incorrecta. El precio debe ser un número. Intenta de nuevo.\")\n",
    "        continue\n",
    "    # Si llego aquí, ya tengo un valor numérico en precio.\n",
    "    if (not precio>0):\n",
    "        print(\"Entrada incorrecta. El precio debe ser mayor a cero. Intenta de nuevo.\")\n",
    "        continue\n",
    "    # Si todo salió bien, se sale del while\n",
    "    break"
   ]
  },
  {
   "cell_type": "code",
   "execution_count": 10,
   "id": "2c6bc18d-e6ab-4476-a9ff-687e5cb0b5e7",
   "metadata": {},
   "outputs": [
    {
     "name": "stdin",
     "output_type": "stream",
     "text": [
      "Dame el rendimiento del coche:  30\n"
     ]
    }
   ],
   "source": [
    "litros=dinero/precio\n",
    "_rendimiento=input(\"Dame el rendimiento del coche: \")\n",
    "rendimiento=float(_rendimiento)"
   ]
  },
  {
   "cell_type": "code",
   "execution_count": 12,
   "id": "ebcc8457-407b-4742-a76a-61aa1bd81165",
   "metadata": {},
   "outputs": [
    {
     "name": "stdout",
     "output_type": "stream",
     "text": [
      "El recorrido será de 600.00 km, en 12 horas y 0 minutos\n"
     ]
    }
   ],
   "source": [
    "d=rendimiento*litros\n",
    "t=d/v\n",
    "hh=int(t)\n",
    "mm=int((t-hh)*60)\n",
    "\n",
    "print(f\"El recorrido será de {d:.2f} km, en {hh} horas y {mm} minutos\")"
   ]
  },
  {
   "cell_type": "code",
   "execution_count": null,
   "id": "5e2212f6-9449-418a-aec7-d64088d5b310",
   "metadata": {},
   "outputs": [],
   "source": []
  }
 ],
 "metadata": {
  "kernelspec": {
   "display_name": "anaconda-panel-2023.05-py310",
   "language": "python",
   "name": "conda-env-anaconda-panel-2023.05-py310-py"
  },
  "language_info": {
   "codemirror_mode": {
    "name": "ipython",
    "version": 3
   },
   "file_extension": ".py",
   "mimetype": "text/x-python",
   "name": "python",
   "nbconvert_exporter": "python",
   "pygments_lexer": "ipython3",
   "version": "3.11.5"
  }
 },
 "nbformat": 4,
 "nbformat_minor": 5
}
