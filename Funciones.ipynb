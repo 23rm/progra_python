{
 "cells": [
  {
   "cell_type": "markdown",
   "id": "1d4ef461-f3b8-46e0-9895-38172d20f95c",
   "metadata": {},
   "source": [
    "## Funciones"
   ]
  },
  {
   "cell_type": "code",
   "execution_count": 12,
   "id": "54bd0d5d-b329-4650-865a-e58587647143",
   "metadata": {},
   "outputs": [
    {
     "name": "stdout",
     "output_type": "stream",
     "text": [
      "El área del rectángulo es 200\n",
      "El área del cuadrado es 100\n",
      "El área del rectángulo es 125\n"
     ]
    }
   ],
   "source": [
    "\n",
    "def CalcularArea(lado1,lado2):\n",
    "    if (lado1==lado2):\n",
    "        mensaje=f\"El área del cuadrado es {lado1*lado2}\"\n",
    "    else:\n",
    "        mensaje=f\"El área del rectángulo es {lado1*lado2}\"\n",
    "    return mensaje\n",
    "\n",
    "# Probando la función\n",
    "# Imprime el valor que retorne CalcularArea, si le pasas\n",
    "# como parámetros 10 y 20\n",
    "print(CalcularArea(10,20))\n",
    "# Imprime el valor que retorne CalcularArea, si le pasas\n",
    "# como parámetros 10 y 10\n",
    "print(CalcularArea(10,10))\n",
    "# Imprime el valor que retorne CalcularArea, si le pasas\n",
    "# parámetros nominados. \"lado2\" con 25, y \"lado1\" con 5\n",
    "print(CalcularArea(lado2=25,lado1=5))"
   ]
  }
 ],
 "metadata": {
  "kernelspec": {
   "display_name": "anaconda-panel-2023.05-py310",
   "language": "python",
   "name": "conda-env-anaconda-panel-2023.05-py310-py"
  },
  "language_info": {
   "codemirror_mode": {
    "name": "ipython",
    "version": 3
   },
   "file_extension": ".py",
   "mimetype": "text/x-python",
   "name": "python",
   "nbconvert_exporter": "python",
   "pygments_lexer": "ipython3",
   "version": "3.11.5"
  }
 },
 "nbformat": 4,
 "nbformat_minor": 5
}
