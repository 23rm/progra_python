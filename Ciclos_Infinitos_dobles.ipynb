{
 "cells": [
  {
   "cell_type": "markdown",
   "id": "ce144f74-15bc-44ed-976c-63eaef7d8421",
   "metadata": {},
   "source": [
    "### Problema ciclos infinitos anidados"
   ]
  },
  {
   "cell_type": "code",
   "execution_count": null,
   "id": "a3656160-f990-428f-b695-a3edfd76847a",
   "metadata": {},
   "outputs": [
    {
     "name": "stdin",
     "output_type": "stream",
     "text": [
      "Dame el primer número:  \n"
     ]
    },
    {
     "name": "stdout",
     "output_type": "stream",
     "text": [
      "Dato incorrecto. No se puede omitir. Intenta de nuevo.\n"
     ]
    },
    {
     "name": "stdin",
     "output_type": "stream",
     "text": [
      "Dame el primer número:  101\n"
     ]
    },
    {
     "name": "stdout",
     "output_type": "stream",
     "text": [
      "Dato incorrecto. El dato está [0,100). Intenta de nuevo.\n"
     ]
    },
    {
     "name": "stdin",
     "output_type": "stream",
     "text": [
      "Dame el primer número:  99\n",
      "Dame el segundo número:  \n"
     ]
    },
    {
     "name": "stdout",
     "output_type": "stream",
     "text": [
      "Dato incorrecto. No se puede omitir. Intenta de nuevo.\n"
     ]
    }
   ],
   "source": [
    "captura_n1=True\n",
    "captura_n2=True\n",
    "\n",
    "while True:\n",
    "    if captura_n1:\n",
    "        while True:\n",
    "            _n1=input(\"Dame el primer número: \")\n",
    "            if (_n1==''):\n",
    "                print('Dato incorrecto. No se puede omitir. Intenta de nuevo.')\n",
    "                continue\n",
    "            try:\n",
    "                n1=int(_n1)\n",
    "            except:\n",
    "                print('Dato incorrecto. El dato no es numérico. Intenta de nuevo.')\n",
    "                continue\n",
    "            if (not (n1>=0 and n1<100)):\n",
    "                print('Dato incorrecto. El dato está [0,100). Intenta de nuevo.')\n",
    "                continue\n",
    "            # Si llego aquí, n1 tiene un número entero entre [0,100)\n",
    "            captura_n1=False\n",
    "            break\n",
    "\n",
    "    if captura_n2:\n",
    "        while True:\n",
    "            _n2=input(\"Dame el segundo número: \")\n",
    "            if (_n2==''):\n",
    "                print('Dato incorrecto. No se puede omitir. Intenta de nuevo.')\n",
    "                continue\n",
    "            try:\n",
    "                n2=int(_n2)\n",
    "            except:\n",
    "                print('Dato incorrecto. El dato no es numérico. Intenta de nuevo.')\n",
    "                continue\n",
    "            if (not (n2>=0 and n2<100)):\n",
    "                print('Dato incorrecto. El dato está [0,100). Intenta de nuevo.')\n",
    "                continue\n",
    "            # Si llego aquí, n2 tiene un número entero entre [0,100)\n",
    "            captura_n2=False\n",
    "            break\n",
    "\n",
    "    # Validación a nivel formulario\n",
    "    if (n2<=n1):\n",
    "        print('Dato incorrecto. El segundo número debe ser mayor al primero. Intenta de nuevo.')\n",
    "        # Tipo de acción que queremos.\n",
    "        while True:\n",
    "            accion=input('[A] Preguntar el último, [B] Preguntar ambos: ')\n",
    "            accion=accion.upper()\n",
    "            if (accion=='A'):\n",
    "                captura_n2=True\n",
    "                break\n",
    "            elif (accion=='B'):\n",
    "                captura_n1=True\n",
    "                captura_n2=True\n",
    "                break\n",
    "            else:\n",
    "                print('Dato incorrecto. Solo A o B. Intenta de nuevo.')\n",
    "                continue\n",
    "        continue\n",
    "    # Si llega aquí, todo bien\n",
    "    break\n",
    "\n",
    "print('Fin del programa.')"
   ]
  },
  {
   "cell_type": "code",
   "execution_count": null,
   "id": "a819f1ff-943e-4df8-9f64-2f991e4ea97a",
   "metadata": {},
   "outputs": [],
   "source": []
  }
 ],
 "metadata": {
  "kernelspec": {
   "display_name": "anaconda-panel-2023.05-py310",
   "language": "python",
   "name": "conda-env-anaconda-panel-2023.05-py310-py"
  },
  "language_info": {
   "codemirror_mode": {
    "name": "ipython",
    "version": 3
   },
   "file_extension": ".py",
   "mimetype": "text/x-python",
   "name": "python",
   "nbconvert_exporter": "python",
   "pygments_lexer": "ipython3",
   "version": "3.11.5"
  }
 },
 "nbformat": 4,
 "nbformat_minor": 5
}
