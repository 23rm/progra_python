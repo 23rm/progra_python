{
 "cells": [
  {
   "cell_type": "markdown",
   "id": "36711cc1-30cf-4b1e-a790-a8fd4b050ec9",
   "metadata": {},
   "source": [
    "### LISTAS"
   ]
  },
  {
   "cell_type": "code",
   "execution_count": 2,
   "id": "7ca1eeb4-b690-4aa6-a25f-dc024e6212a5",
   "metadata": {},
   "outputs": [
    {
     "name": "stdout",
     "output_type": "stream",
     "text": [
      "['Eyes wide shut', 'The Godfather', 'The Professional', 'The Notebook']\n",
      "<class 'list'>\n",
      "['Eyes wide shut', 'The Godfather', 'The Professional', 'The Notebook']\n",
      "<class 'list'>\n"
     ]
    }
   ],
   "source": [
    "# Cadena con múltiples valores, usando \";\" como separador.\n",
    "pelis_favoritas=\"Eyes wide shut;The Godfather;The Professional;The Notebook\"\n",
    "favoritas = pelis_favoritas.split(';')\n",
    "print(favoritas)\n",
    "print(type(favoritas))\n",
    "# Cadena con múltiples valores, estilo CSV con pipe-line.\n",
    "pelis_favoritas=\"|Eyes wide shut|The Godfather|The Professional|The Notebook|\"\n",
    "favoritas = pelis_favoritas[1:-1].split('|')\n",
    "print(favoritas)\n",
    "print(type(favoritas))"
   ]
  },
  {
   "cell_type": "markdown",
   "id": "31eabac5-0f81-41c3-ba18-ba2971b089a8",
   "metadata": {},
   "source": [
    "### Diccionarios"
   ]
  },
  {
   "cell_type": "code",
   "execution_count": 5,
   "id": "4f2f3d7d-df37-49bf-ad8b-25c29352bba7",
   "metadata": {},
   "outputs": [
    {
     "name": "stdout",
     "output_type": "stream",
     "text": [
      "4\n",
      "dict_keys([10, 20, 30, 40])\n",
      "dict_values(['The Godfather', 'Jurassic Park', 'Ex-Machina', 'The Notebook'])\n"
     ]
    }
   ],
   "source": [
    "peliculas={\n",
    "10:\"The Godfather\",\n",
    "20:\"Jurassic Park\",\n",
    "30:\"Ex-Machina\",\n",
    "40:\"The Notebook\"\n",
    "}\n",
    "print(len(peliculas))\n",
    "print(peliculas.keys())\n",
    "print(peliculas.values())"
   ]
  },
  {
   "cell_type": "code",
   "execution_count": 7,
   "id": "07fc7e34-4fa0-4699-ac07-e8288f23ff46",
   "metadata": {},
   "outputs": [
    {
     "name": "stdout",
     "output_type": "stream",
     "text": [
      "{10: 'The Godfather', 20: 'Jurassic Park', 30: 'Ex-Machina', 40: 'The Notebook'}\n",
      "{10: 'The Godfather', 20: 'Jurassic Park', 30: 'Ex-Machina', 40: 'The Notebook', 50: 'Star Wars', 60: 'Unknown'}\n",
      "{10: 'The Godfather', 20: 'Jurassic Park', 30: 'Ex-Machina', 40: 'The Notebook', 50: 'Star Wars', 60: 'Casino Royale'}\n"
     ]
    }
   ],
   "source": [
    "print(peliculas)\n",
    "# Agregar elemento por asignación\n",
    "peliculas[50]=\"Star Wars\"\n",
    "# Agregar elemento usando update()\n",
    "peliculas.update({60:\"Unknown\"})\n",
    "print(peliculas)\n",
    "# Actualizar el valor de un elemento\n",
    "peliculas[60]=\"Casino Royale\"\n",
    "print(peliculas)"
   ]
  },
  {
   "cell_type": "code",
   "execution_count": 9,
   "id": "93d876c6-05b3-4546-90cd-a2b121afbac0",
   "metadata": {},
   "outputs": [
    {
     "name": "stdout",
     "output_type": "stream",
     "text": [
      "{10: 'The Godfather', 20: 'Jurassic Park', 30: 'Ex-Machina', 40: 'The Notebook', 50: 'Star Wars', 60: 'Casino Royale'}\n",
      "{10: 'The Godfather', 20: 'Jurassic Park', 30: 'Ex-Machina', 40: 'The Notebook', 50: 'Star Wars'}\n",
      "{10: 'The Godfather', 30: 'Ex-Machina', 40: 'The Notebook', 50: 'Star Wars'}\n",
      "{10: 'The Godfather', 40: 'The Notebook', 50: 'Star Wars'}\n"
     ]
    }
   ],
   "source": [
    "print(peliculas)\n",
    "# Eliminando la última agregada\n",
    "peliculas.popitem()\n",
    "print(peliculas)\n",
    "# Eliminando un elemento específico\n",
    "peliculas.pop(20)\n",
    "print(peliculas)\n",
    "# Eliminando un elemento específico\n",
    "del peliculas[30]\n",
    "print(peliculas)"
   ]
  }
 ],
 "metadata": {
  "kernelspec": {
   "display_name": "anaconda-panel-2023.05-py310",
   "language": "python",
   "name": "conda-env-anaconda-panel-2023.05-py310-py"
  },
  "language_info": {
   "codemirror_mode": {
    "name": "ipython",
    "version": 3
   },
   "file_extension": ".py",
   "mimetype": "text/x-python",
   "name": "python",
   "nbconvert_exporter": "python",
   "pygments_lexer": "ipython3",
   "version": "3.11.5"
  }
 },
 "nbformat": 4,
 "nbformat_minor": 5
}
