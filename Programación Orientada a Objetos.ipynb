{
 "cells": [
  {
   "cell_type": "markdown",
   "id": "f6cf15e7-ef96-4e19-820c-d76b7c2b87b7",
   "metadata": {},
   "source": [
    "### Programación Orientada a objetos"
   ]
  },
  {
   "cell_type": "code",
   "execution_count": 2,
   "id": "a09aca05-3a12-4ab4-807d-f472d550d629",
   "metadata": {},
   "outputs": [
    {
     "name": "stdout",
     "output_type": "stream",
     "text": [
      "--------------------------------------------------\n",
      "CACHITO TORTUGA\n",
      "69.39655172413794\n",
      "11.10344827586207\n",
      "80.5\n",
      "--------------------------------------------------\n",
      "CACHITO TORTUGA\n",
      "86.20689655172414\n",
      "13.793103448275863\n",
      "100\n"
     ]
    }
   ],
   "source": [
    "# Imagina que tienes una clase llamada Producto, que almacena el nombre de un producto, y el precio del mismo.\n",
    "# El precio se almacena en un atributo de tipo float, que puede ser establecido en cualquier momento.\n",
    "# La clase debe tener un método constructor, al cual se le proporcionan los atributos.\n",
    "# La clase tendrá dos propiedades: Subtotal, que almacena el precio antes de impuestos; e Impuestos\n",
    "# que almacena el monto de impuestos, considerando que se tiene una tasa fija de impuestos del 16%\n",
    "# Ejemplo: Si el precio de un producto es de $80.50, el subtotal será 80.50/1.16=69.3965; el impuesto\n",
    "# sería 69.3965*0.16=11.1034. La suma del subtotal más el impuesto, debe dar los 80.50\n",
    "# Toma en cuenta que, a diferencia de los atributos, las propiedades son de solo lectura, o read-only.\n",
    "class Producto():\n",
    "    # Atributos\n",
    "    Nombre=\"\"\n",
    "    Precio=0.0\n",
    "    # Constructor\n",
    "    def __init__(self, nombre, precio):\n",
    "        self.Nombre=nombre.upper()\n",
    "        self.Precio=precio\n",
    "\n",
    "    @property\n",
    "    def Subtotal(self):\n",
    "        return self.Precio/1.16\n",
    "\n",
    "    @property\n",
    "    def Impuesto(self):\n",
    "        return (self.Precio/1.16)*0.16\n",
    "\n",
    "    # Método\n",
    "    def MostrarInfo(self):\n",
    "        print(\"-\"*50)\n",
    "        print(self.Nombre)\n",
    "        print(self.Subtotal)\n",
    "        print(self.Impuesto)\n",
    "        print(self.Precio)\n",
    "\n",
    "\n",
    "pastelillo=Producto(\"Cachito Tortuga\",80.50)\n",
    "# Intentar la siguiente línea, provoca error\n",
    "# pastelillo.Subtotal=20.0\n",
    "pastelillo.MostrarInfo()\n",
    "pastelillo.Precio=100\n",
    "pastelillo.MostrarInfo()"
   ]
  }
 ],
 "metadata": {
  "kernelspec": {
   "display_name": "anaconda-panel-2023.05-py310",
   "language": "python",
   "name": "conda-env-anaconda-panel-2023.05-py310-py"
  },
  "language_info": {
   "codemirror_mode": {
    "name": "ipython",
    "version": 3
   },
   "file_extension": ".py",
   "mimetype": "text/x-python",
   "name": "python",
   "nbconvert_exporter": "python",
   "pygments_lexer": "ipython3",
   "version": "3.11.5"
  }
 },
 "nbformat": 4,
 "nbformat_minor": 5
}
