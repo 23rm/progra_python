{
 "cells": [
  {
   "cell_type": "markdown",
   "id": "17e6b69e-de6a-48ea-83c6-cf558fcad7f5",
   "metadata": {},
   "source": [
    "### Validaciones"
   ]
  },
  {
   "cell_type": "markdown",
   "id": "0f9e8151-151e-4395-9d35-69218ab1ee69",
   "metadata": {},
   "source": [
    "Programa para practica de validaciones"
   ]
  },
  {
   "cell_type": "code",
   "execution_count": 4,
   "id": "9825f827-312a-4372-997a-af9ced8278d6",
   "metadata": {},
   "outputs": [
    {
     "name": "stdin",
     "output_type": "stream",
     "text": [
      "Dame tu altura en metros:  2\n"
     ]
    },
    {
     "name": "stdout",
     "output_type": "stream",
     "text": [
      "El dato no es decimal \n"
     ]
    },
    {
     "name": "stdin",
     "output_type": "stream",
     "text": [
      "Dame tu altura en metros:  1.99\n"
     ]
    },
    {
     "name": "stdout",
     "output_type": "stream",
     "text": [
      "La edad capturada es 1.99\n"
     ]
    }
   ],
   "source": [
    "import re\n",
    "\n",
    "while True:\n",
    "    Altura=input(\"Dame tu altura en metros: \")\n",
    "    if (Altura==\"\"):\n",
    "        print(\"La altura no se puede omitir\")\n",
    "        continue\n",
    "    if not bool(re.match(\"^[+-]?[0-9]+[.][0-9]+$\",Altura)):\n",
    "        print(\"El dato no es decimal \")\n",
    "        continue\n",
    "    else:\n",
    "        altura=float(Altura)\n",
    "        break\n",
    "        \n",
    "print(f\"La edad capturada es {altura:.2f}\")"
   ]
  }
 ],
 "metadata": {
  "kernelspec": {
   "display_name": "anaconda-panel-2023.05-py310",
   "language": "python",
   "name": "conda-env-anaconda-panel-2023.05-py310-py"
  },
  "language_info": {
   "codemirror_mode": {
    "name": "ipython",
    "version": 3
   },
   "file_extension": ".py",
   "mimetype": "text/x-python",
   "name": "python",
   "nbconvert_exporter": "python",
   "pygments_lexer": "ipython3",
   "version": "3.11.5"
  }
 },
 "nbformat": 4,
 "nbformat_minor": 5
}
